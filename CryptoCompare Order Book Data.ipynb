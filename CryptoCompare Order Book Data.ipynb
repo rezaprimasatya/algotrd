{
 "cells": [
  {
   "cell_type": "code",
   "execution_count": 4,
   "metadata": {},
   "outputs": [],
   "source": [
    "import cryptocompare\n",
    "import requests\n",
    "import pandas as pd"
   ]
  },
  {
   "cell_type": "code",
   "execution_count": 3,
   "metadata": {
    "collapsed": true
   },
   "outputs": [
    {
     "data": {
      "text/plain": [
       "{'Binance': {'orderBookAvailability': ['API', 'STREAMING'],\n",
       "  'orderBookInternalName': 'binance'},\n",
       " 'BitBank': {'orderBookAvailability': ['API', 'STREAMING'],\n",
       "  'orderBookInternalName': 'bitbank'},\n",
       " 'BitTrex': {'orderBookAvailability': ['API', 'STREAMING'],\n",
       "  'orderBookInternalName': 'bittrex'},\n",
       " 'Bitfinex': {'orderBookAvailability': ['API', 'STREAMING'],\n",
       "  'orderBookInternalName': 'bitfinex'},\n",
       " 'Bithumb': {'orderBookAvailability': ['API', 'STREAMING'],\n",
       "  'orderBookInternalName': 'bithumb'},\n",
       " 'Bitstamp': {'orderBookAvailability': ['API', 'STREAMING'],\n",
       "  'orderBookInternalName': 'bitstamp'},\n",
       " 'Cexio': {'orderBookAvailability': ['API', 'STREAMING'],\n",
       "  'orderBookInternalName': 'cexio'},\n",
       " 'Coinbase': {'orderBookAvailability': ['API', 'STREAMING'],\n",
       "  'orderBookInternalName': 'coinbase'},\n",
       " 'Coinone': {'orderBookAvailability': ['API', 'STREAMING'],\n",
       "  'orderBookInternalName': 'coinone'},\n",
       " 'Gemini': {'orderBookAvailability': ['API', 'STREAMING'],\n",
       "  'orderBookInternalName': 'gemini'},\n",
       " 'HitBTC': {'orderBookAvailability': ['API'],\n",
       "  'orderBookInternalName': 'hitbtc'},\n",
       " 'HuobiPro': {'orderBookAvailability': ['API'],\n",
       "  'orderBookInternalName': 'huobi'},\n",
       " 'Korbit': {'orderBookAvailability': ['API', 'STREAMING'],\n",
       "  'orderBookInternalName': 'korbit'},\n",
       " 'Kraken': {'orderBookAvailability': ['API', 'STREAMING'],\n",
       "  'orderBookInternalName': 'kraken'},\n",
       " 'Kucoin': {'orderBookAvailability': ['API', 'STREAMING'],\n",
       "  'orderBookInternalName': 'kucoin'},\n",
       " 'OKCoin': {'orderBookAvailability': ['API', 'STREAMING'],\n",
       "  'orderBookInternalName': 'okcoin'},\n",
       " 'OKEX': {'orderBookAvailability': ['API'], 'orderBookInternalName': 'okex'},\n",
       " 'Poloniex': {'orderBookAvailability': ['API', 'STREAMING'],\n",
       "  'orderBookInternalName': 'poloniex'},\n",
       " 'binanceusa': {'orderBookAvailability': ['API', 'STREAMING'],\n",
       "  'orderBookInternalName': 'binanceus'},\n",
       " 'bitFlyer': {'orderBookAvailability': ['API', 'STREAMING'],\n",
       "  'orderBookInternalName': 'bitflyer'},\n",
       " 'itBit': {'orderBookAvailability': ['API', 'STREAMING'],\n",
       "  'orderBookInternalName': 'itbit'}}"
      ]
     },
     "execution_count": 3,
     "metadata": {},
     "output_type": "execute_result"
    }
   ],
   "source": [
    "apiKey = \"49cb3bc443bbff0927d23d75aea8501b3242af2cbb44b0a5130f72046bc6819d\"\n",
    "\n",
    "url = \"https://min-api.cryptocompare.com/data/ob/exchanges\"\n",
    "\n",
    "\n",
    "headers = {\n",
    "    \"authorization\": \"Apikey \" + apiKey\n",
    "}\n",
    "\n",
    "result = requests.get(url, headers=headers).json()\n",
    "result['Data']"
   ]
  },
  {
   "cell_type": "code",
   "execution_count": 16,
   "metadata": {},
   "outputs": [
    {
     "data": {
      "text/plain": [
       "Binance       [API, STREAMING]\n",
       "BitBank       [API, STREAMING]\n",
       "BitTrex       [API, STREAMING]\n",
       "Bitfinex      [API, STREAMING]\n",
       "Bithumb       [API, STREAMING]\n",
       "Bitstamp      [API, STREAMING]\n",
       "Cexio         [API, STREAMING]\n",
       "Coinbase      [API, STREAMING]\n",
       "Coinone       [API, STREAMING]\n",
       "Gemini        [API, STREAMING]\n",
       "HitBTC                   [API]\n",
       "HuobiPro                 [API]\n",
       "Korbit        [API, STREAMING]\n",
       "Kraken        [API, STREAMING]\n",
       "Kucoin        [API, STREAMING]\n",
       "OKCoin        [API, STREAMING]\n",
       "OKEX                     [API]\n",
       "Poloniex      [API, STREAMING]\n",
       "binanceusa    [API, STREAMING]\n",
       "bitFlyer      [API, STREAMING]\n",
       "itBit         [API, STREAMING]\n",
       "Name: orderBookAvailability, dtype: object"
      ]
     },
     "execution_count": 16,
     "metadata": {},
     "output_type": "execute_result"
    }
   ],
   "source": [
    "df = pd.DataFrame(result['Data'])\n",
    "df.iloc[0]"
   ]
  },
  {
   "cell_type": "code",
   "execution_count": 20,
   "metadata": {},
   "outputs": [
    {
     "data": {
      "text/plain": [
       "{'RAW': {'BTC': {'USD': {'CCSEQ': 442696860,\n",
       "    'BID': 19337.52,\n",
       "    'ASK': 19342.3}}},\n",
       " 'DISPLAY': {'BTC': {'USD': {'BID': '$ 19,337.5', 'ASK': '$ 19,342.3'}}}}"
      ]
     },
     "execution_count": 20,
     "metadata": {},
     "output_type": "execute_result"
    }
   ],
   "source": [
    "url = \"https://min-api.cryptocompare.com/data/ob/l1/top\"\n",
    "\n",
    "payload = {\n",
    "    \"fsyms\":\"BTC\",\n",
    "    \"tsyms\":\"USD\",\n",
    "    \"e\":\"Coinbase\"\n",
    "}\n",
    "\n",
    "headers = {\n",
    "    \"authorization\": \"Apikey \" + apiKey\n",
    "}\n",
    "\n",
    "result = requests.get(url, headers=headers, params=payload).json()\n",
    "result['Data']"
   ]
  },
  {
   "cell_type": "code",
   "execution_count": null,
   "metadata": {},
   "outputs": [],
   "source": []
  }
 ],
 "metadata": {
  "kernelspec": {
   "display_name": "Python 3",
   "language": "python",
   "name": "python3"
  },
  "language_info": {
   "codemirror_mode": {
    "name": "ipython",
    "version": 3
   },
   "file_extension": ".py",
   "mimetype": "text/x-python",
   "name": "python",
   "nbconvert_exporter": "python",
   "pygments_lexer": "ipython3",
   "version": "3.8.3"
  }
 },
 "nbformat": 4,
 "nbformat_minor": 4
}
